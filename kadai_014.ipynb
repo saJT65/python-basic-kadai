{
 "cells": [
  {
   "cell_type": "code",
   "execution_count": 8,
   "id": "6db47b11-f43f-47eb-adfc-0cbcbe296e39",
   "metadata": {},
   "outputs": [
    {
     "name": "stdout",
     "output_type": "stream",
     "text": [
      "330.0\n"
     ]
    }
   ],
   "source": [
    "#以下のコードを実行するとスコープに関するエラーが発生します。\n",
    "#エラーを修正して、正しく計算結果が出力されるようにしてください。\n",
    "\n",
    "#修正前\n",
    "\"\"\"\n",
    "price1 = 100\n",
    "price2 = 200\n",
    "\n",
    "def total():\n",
    "    tax = 1.1\n",
    "    return price1 + price2\n",
    "\n",
    "print (total() * tax)\n",
    "\"\"\"\n",
    "\n",
    "#修正後\n",
    "price1 = 100\n",
    "price2 = 200\n",
    "tax = 1.1\n",
    "\n",
    "def total():\n",
    "    return price1 + price2\n",
    "\n",
    "print (total() * tax)"
   ]
  },
  {
   "cell_type": "code",
   "execution_count": null,
   "id": "63414e75-dbaa-494f-8c58-59c1fe42acf0",
   "metadata": {},
   "outputs": [],
   "source": []
  }
 ],
 "metadata": {
  "kernelspec": {
   "display_name": "Python 3 (ipykernel)",
   "language": "python",
   "name": "python3"
  },
  "language_info": {
   "codemirror_mode": {
    "name": "ipython",
    "version": 3
   },
   "file_extension": ".py",
   "mimetype": "text/x-python",
   "name": "python",
   "nbconvert_exporter": "python",
   "pygments_lexer": "ipython3",
   "version": "3.12.1"
  }
 },
 "nbformat": 4,
 "nbformat_minor": 5
}
