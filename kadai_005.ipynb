{
 "cells": [
  {
   "cell_type": "code",
   "execution_count": 2,
   "id": "18012672-67c8-427c-957a-b7af2fb791bf",
   "metadata": {},
   "outputs": [
    {
     "name": "stdout",
     "output_type": "stream",
     "text": [
      "上辺が10cm，下辺が20cm，高さが5cmの場合,\n",
      "台形の面積は75.0cm²です\n"
     ]
    }
   ],
   "source": [
    "#下記の台形の面積の計算結果を出力するプログラムを記述してください。\n",
    "#出力結果は「◯◯cm²」となるように単位をつけてください。\n",
    "#上辺：10cm\n",
    "#下辺：20cm\n",
    "#高さ：5cm\n",
    "#公式：台形の面積 =（上辺＋下辺）× 高さ ÷ 2\n",
    "\n",
    "top_side = 10\n",
    "bottom_side = 20\n",
    "height= 5\n",
    "\n",
    "Trapezoid_area = (top_side + bottom_side) * height / 2\n",
    "print(f\"上辺が{top_side}cm，下辺が{bottom_side}cm，高さが{height}cmの場合,\")\n",
    "print(f\"台形の面積は{Trapezoid_area}cm²です\")"
   ]
  },
  {
   "cell_type": "code",
   "execution_count": null,
   "id": "bc596994-df52-427c-96c2-1e92668133c9",
   "metadata": {},
   "outputs": [],
   "source": []
  }
 ],
 "metadata": {
  "kernelspec": {
   "display_name": "Python 3 (ipykernel)",
   "language": "python",
   "name": "python3"
  },
  "language_info": {
   "codemirror_mode": {
    "name": "ipython",
    "version": 3
   },
   "file_extension": ".py",
   "mimetype": "text/x-python",
   "name": "python",
   "nbconvert_exporter": "python",
   "pygments_lexer": "ipython3",
   "version": "3.12.0"
  }
 },
 "nbformat": 4,
 "nbformat_minor": 5
}
