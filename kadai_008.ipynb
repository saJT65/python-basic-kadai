{
 "cells": [
  {
   "cell_type": "code",
   "execution_count": 27,
   "id": "e4c12349-9856-411b-ae97-fd1f9698a8f3",
   "metadata": {},
   "outputs": [
    {
     "name": "stdout",
     "output_type": "stream",
     "text": [
      "buzz\n"
     ]
    }
   ],
   "source": [
    "#if文を用いて、以下の条件分岐をするコードを記述してください。値はprint関数で出力してください。\n",
    "\n",
    "#・変数varが、3の倍数の場合は「Fizz」を出力\n",
    "#・変数varが、5の倍数の場合は「Buzz」を出力\n",
    "#・変数varが、3の倍数と5の倍数の両方に該当する場合は「FizzBuzz」を出力\n",
    "#・上記のどの場合にも該当しない場合は、変数varの値を出力\n",
    "\n",
    "#ただし、変数varは正の整数とします。\n",
    "\n",
    "var = 10\n",
    "\n",
    "if var % 3 == 0 and var % 5 == 0 :\n",
    "    print(\"fizzbuzz\")\n",
    "\n",
    "elif var % 3 ==0:\n",
    "    print(\"fizz\")\n",
    "\n",
    "elif var % 5 == 0 :\n",
    "    print(\"buzz\")\n",
    "\n",
    "else :\n",
    "    print(f\"変数「{var}」は，3の倍数でも5の倍数でもありません\")\n"
   ]
  },
  {
   "cell_type": "code",
   "execution_count": null,
   "id": "7a829b49-603e-4aba-b204-00f96b11ce70",
   "metadata": {},
   "outputs": [],
   "source": []
  }
 ],
 "metadata": {
  "kernelspec": {
   "display_name": "Python 3 (ipykernel)",
   "language": "python",
   "name": "python3"
  },
  "language_info": {
   "codemirror_mode": {
    "name": "ipython",
    "version": 3
   },
   "file_extension": ".py",
   "mimetype": "text/x-python",
   "name": "python",
   "nbconvert_exporter": "python",
   "pygments_lexer": "ipython3",
   "version": "3.12.0"
  }
 },
 "nbformat": 4,
 "nbformat_minor": 5
}
