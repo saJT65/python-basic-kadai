{
 "cells": [
  {
   "cell_type": "code",
   "execution_count": 24,
   "id": "ce0931ed-2dfd-4602-b24d-d2364cd609c0",
   "metadata": {},
   "outputs": [
    {
     "name": "stdout",
     "output_type": "stream",
     "text": [
      "商品価格が5000円，消費税が10.0%の場合，税込み価格は5500.0円です\n"
     ]
    }
   ],
   "source": [
    "#商品を購入して、消費税を加えた計算結果を返す関数を記述してください。\n",
    "#第1引数に商品の金額、第2引数に消費税（10%）を設定できるようにしてください。\n",
    "\n",
    "def calculate_total_price(product_price, tax_rate) :\n",
    "    total_price = product_price * (1+tax_rate)\n",
    "    return total_price\n",
    "\n",
    "price = 5000\n",
    "tax = 0.1\n",
    "\n",
    "tax_included = calculate_total_price(price,tax)\n",
    "print(f\"商品価格が{price}円，消費税が{100*tax}%の場合，税込み価格は{tax_included}円です\")"
   ]
  },
  {
   "cell_type": "code",
   "execution_count": null,
   "id": "a887c032-5f84-49fb-b13b-b4768f94122d",
   "metadata": {},
   "outputs": [],
   "source": []
  }
 ],
 "metadata": {
  "kernelspec": {
   "display_name": "Python 3 (ipykernel)",
   "language": "python",
   "name": "python3"
  },
  "language_info": {
   "codemirror_mode": {
    "name": "ipython",
    "version": 3
   },
   "file_extension": ".py",
   "mimetype": "text/x-python",
   "name": "python",
   "nbconvert_exporter": "python",
   "pygments_lexer": "ipython3",
   "version": "3.12.1"
  }
 },
 "nbformat": 4,
 "nbformat_minor": 5
}
