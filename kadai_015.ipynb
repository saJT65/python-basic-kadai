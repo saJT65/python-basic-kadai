{
 "cells": [
  {
   "cell_type": "code",
   "execution_count": 19,
   "id": "96ef4f74-2a8c-450a-b03e-7f81cbd2e9c3",
   "metadata": {},
   "outputs": [
    {
     "name": "stdout",
     "output_type": "stream",
     "text": [
      "氏名：Samurai_Hanako, 年齢：29\n",
      "氏名：Samurai_Taro, 年齢：28\n"
     ]
    }
   ],
   "source": [
    "#名前(name)と年齢(age)の属性を持つHumanクラスを作成してください。\n",
    "#nameとageを標準出力(print)するメソッド(printinfo)を追加してください。\n",
    "#Humanクラスのインスタンスは、変数に代入してプログラム内で使用してください。\n",
    "\n",
    "class Human:\n",
    "    def __init__(self, name, age):\n",
    "        #属性を定義\n",
    "        self.name = name\n",
    "        self.age = age\n",
    "\n",
    "    #メソットを定義\n",
    "    def printinfo(self):\n",
    "        print(f\"氏名：{self.name}, 年齢：{self.age}\")\n",
    "  \n",
    "# Humanクラスのインスタンスを作成して変数に代入\n",
    "person1 = Human(\"Samurai_Hanako\", 29)\n",
    "person2 = Human(\"Samurai_Taro\", 28)\n",
    "\n",
    "# printinfoメソッドを使用して情報を出力\n",
    "person1.printinfo()\n",
    "person2.printinfo()"
   ]
  },
  {
   "cell_type": "code",
   "execution_count": null,
   "id": "d7e7c6ea-9e89-4e26-980e-29c0ebea7e77",
   "metadata": {},
   "outputs": [],
   "source": []
  }
 ],
 "metadata": {
  "kernelspec": {
   "display_name": "Python 3 (ipykernel)",
   "language": "python",
   "name": "python3"
  },
  "language_info": {
   "codemirror_mode": {
    "name": "ipython",
    "version": 3
   },
   "file_extension": ".py",
   "mimetype": "text/x-python",
   "name": "python",
   "nbconvert_exporter": "python",
   "pygments_lexer": "ipython3",
   "version": "3.12.1"
  }
 },
 "nbformat": 4,
 "nbformat_minor": 5
}
